{
 "cells": [
  {
   "cell_type": "markdown",
   "metadata": {},
   "source": [
    "# Assignments"
   ]
  },
  {
   "cell_type": "markdown",
   "metadata": {},
   "source": [
    "Q1. Write the Python function to get a string made of 4 copies of the last\n",
    "two characters of the specified string (length must be at least 2).\n",
    "\n",
    "    Sample function and result :\n",
    "    insert-end ('Python') -> abababab\n",
    "    insert-end('Exercises') -> jkjkjkjk"
   ]
  },
  {
   "cell_type": "code",
   "execution_count": 1,
   "metadata": {},
   "outputs": [
    {
     "name": "stdout",
     "output_type": "stream",
     "text": [
      "onononon\n",
      "eseseses\n"
     ]
    }
   ],
   "source": [
    "def insert_end(str):\n",
    "\tsub_str = str[-2:]\n",
    "\treturn sub_str * 4\n",
    "\n",
    "print(insert_end('Python'))\n",
    "print(insert_end('Exercises'))\n"
   ]
  },
  {
   "cell_type": "markdown",
   "metadata": {},
   "source": [
    "Q2. Write the python function to get a string made of its first three\n",
    "characters of a specified string. If the length of the string is less than 3\n",
    "then return the original string.\n",
    "    \n",
    "    Sample function and result :\n",
    "    first-three('ipy') -> ipy\n",
    "    first-three('python') -> pyt"
   ]
  },
  {
   "cell_type": "code",
   "execution_count": 2,
   "metadata": {},
   "outputs": [
    {
     "name": "stdout",
     "output_type": "stream",
     "text": [
      "ipy\n",
      "pyt\n",
      "py\n"
     ]
    }
   ],
   "source": [
    "def first_three(str):\n",
    "\treturn str[:3] if len(str) > 3 else str\n",
    "\n",
    "print(first_three('ipy'))\n",
    "print(first_three('python'))\n",
    "print(first_three('py'))\n"
   ]
  },
  {
   "cell_type": "markdown",
   "metadata": {},
   "source": [
    "Q3. Write the Python program to find smallest window that contains all\n",
    "characters of the given string?\n",
    "\n",
    "    Original Strings:\n",
    "    asdaewsqgtwwsa\n",
    "    Smallest window that contains all characters of the said string:\n",
    "    Daewsqgt"
   ]
  },
  {
   "cell_type": "code",
   "execution_count": 2,
   "metadata": {},
   "outputs": [
    {
     "name": "stdout",
     "output_type": "stream",
     "text": [
      "smallest window:\n",
      "\n"
     ]
    }
   ],
   "source": [
    "import collections\n",
    "def min_window(str1, str2):\n",
    "    result_char, missing_char = collections.Counter(str2), len(str2)\n",
    "    i = p = q = 0\n",
    "    for j, c in enumerate(str1, 1):\n",
    "        missing_char -= result_char[c] > 0\n",
    "        result_char[c] -= 1\n",
    "        if not missing_char:\n",
    "            while i < q and result_char[str1[i]] < 0:\n",
    "                result_char[str1[i]] += 1\n",
    "                i += 1\n",
    "            if not q or j - i <= q - p:\n",
    "                p, q = i, j\n",
    "    return str1[p:q]\n",
    "           \n",
    "str1 = \"asdaewsqgtwwsa\"\n",
    "str2 = \"OSU\"\n",
    "print(\"smallest window:\")\n",
    "print(min_window(str1,str2))\n"
   ]
  },
  {
   "cell_type": "markdown",
   "metadata": {},
   "source": [
    "Q4. Write the Python program to count number of substrings from a\n",
    "given string of lowercase alphabets with exactly k distinct (given)\n",
    "characters?\n",
    "\n",
    "    Input a string (lowercase alphabets): wolf\n",
    "    Input k: 4\n",
    "    Number of substrings with exactly 4 distinct characters: 1"
   ]
  },
  {
   "cell_type": "code",
   "execution_count": 3,
   "metadata": {},
   "outputs": [
    {
     "name": "stdout",
     "output_type": "stream",
     "text": [
      "Input a string (lowercase alphabets):wolf\n",
      "Input k: 4\n",
      "Number of substrings with exactly 4 distinct characters : 1\n"
     ]
    }
   ],
   "source": [
    "def count_k_dist(str1, k): \n",
    "\tstr_len = len(str1) \n",
    "\t\n",
    "\tresult = 0\n",
    "\n",
    "\tctr = [0] * 27\n",
    "\n",
    "\tfor i in range(0, str_len): \n",
    "\t\tdist_ctr = 0\n",
    "\n",
    "\t\tctr = [0] * 27\n",
    "\n",
    "\t\tfor j in range(i, str_len): \n",
    "\t\t\t\n",
    "\t\t\tif(ctr[ord(str1[j]) - 97] == 0): \n",
    "\t\t\t\tdist_ctr += 1\n",
    "\n",
    "\t\t\tctr[ord(str1[j]) - 97] += 1\n",
    "\n",
    "\t\t\tif(dist_ctr == k): \n",
    "\t\t\t\tresult += 1\n",
    "\t\t\tif(dist_ctr > k): \n",
    "\t\t\t\tbreak\n",
    "\n",
    "\treturn result \n",
    "\n",
    "str1 = input(\"Input a string (lowercase alphabets):\")\n",
    "k = int(input(\"Input k: \"))\n",
    "print(\"Number of substrings with exactly\", k, \"distinct characters : \", end = \"\") \n",
    "print(count_k_dist(str1, k))\n"
   ]
  },
  {
   "cell_type": "markdown",
   "metadata": {},
   "source": [
    "Q5. Write the Python program to count number of non-empty\n",
    "substrings of the given string?\n",
    "\n",
    "    Input a string: w3resource\n",
    "    Number of substrings:\n",
    "    55"
   ]
  },
  {
   "cell_type": "code",
   "execution_count": 4,
   "metadata": {},
   "outputs": [
    {
     "name": "stdout",
     "output_type": "stream",
     "text": [
      "Input a string: w3resource\n",
      "Number of substrings:\n",
      "55\n"
     ]
    }
   ],
   "source": [
    "def number_of_substrings(str): \n",
    "\tstr_len = len(str); \n",
    "\treturn int(str_len * (str_len + 1) / 2); \n",
    "\n",
    "str1 = input(\"Input a string: \")\n",
    "print(\"Number of substrings:\") \n",
    "print(number_of_substrings(str1))\n"
   ]
  },
  {
   "cell_type": "markdown",
   "metadata": {},
   "source": [
    "Q6. Write the Python program to count the number of strings where the\n",
    "string length is 2 or more, and first and last character are same\n",
    "from a given list of strings.\n",
    "\n",
    "    Sample List : ['abc', 'xyz', 'wxw', '1331']\n",
    "    Expected Result: 2"
   ]
  },
  {
   "cell_type": "code",
   "execution_count": 5,
   "metadata": {},
   "outputs": [
    {
     "name": "stdout",
     "output_type": "stream",
     "text": [
      "2\n"
     ]
    }
   ],
   "source": [
    "def match_words(words):\n",
    "  ctr = 0\n",
    "\n",
    "  for word in words:\n",
    "    if len(word) > 1 and word[0] == word[-1]:\n",
    "      ctr += 1\n",
    "  return ctr\n",
    "\n",
    "print(match_words(['abc', 'xyz', 'wxw', '1331']))\n"
   ]
  },
  {
   "cell_type": "markdown",
   "metadata": {},
   "source": [
    "Q7. Write the Python program to get a list, sorted in increasing order by\n",
    "the last element in each tuple from the given list of non-empty\n",
    "tuples?\n",
    "\n",
    "    Sample List - [ (2, 5), (1, 2), (4, 4), (2, 3), (2, 1) ]\n",
    "    Expected Result - [ (2, 1), (1, 2), (2, 3), (4, 4), (2, 5) ]"
   ]
  },
  {
   "cell_type": "code",
   "execution_count": 6,
   "metadata": {},
   "outputs": [
    {
     "name": "stdout",
     "output_type": "stream",
     "text": [
      "[(2, 1), (1, 2), (2, 3), (4, 4), (2, 5)]\n"
     ]
    }
   ],
   "source": [
    "def last(n): return n[-1]\n",
    "\n",
    "def sort_list_last(tuples):\n",
    "  return sorted(tuples, key=last)\n",
    "\n",
    "print(sort_list_last([(2, 5), (1, 2), (4, 4), (2, 3), (2, 1) ]))\n"
   ]
  },
  {
   "cell_type": "markdown",
   "metadata": {},
   "source": [
    "Q8. Write the Python program to remove duplicates from a list?"
   ]
  },
  {
   "cell_type": "code",
   "execution_count": 7,
   "metadata": {},
   "outputs": [
    {
     "name": "stdout",
     "output_type": "stream",
     "text": [
      "{1, 2, 3, 4, 5, 6}\n"
     ]
    }
   ],
   "source": [
    "a = [1,2,3,2,1,5,6,4]\n",
    "\n",
    "dup_items = set()\n",
    "uniq_items = []\n",
    "for x in a:\n",
    "    if x not in dup_items:\n",
    "        uniq_items.append(x)\n",
    "        dup_items.add(x)\n",
    "\n",
    "print(dup_items)\n"
   ]
  },
  {
   "cell_type": "markdown",
   "metadata": {},
   "source": [
    "Q9. Write the Python program to find the list of words that are longer\n",
    "than n from a given list of words?"
   ]
  },
  {
   "cell_type": "code",
   "execution_count": 8,
   "metadata": {},
   "outputs": [
    {
     "name": "stdout",
     "output_type": "stream",
     "text": [
      "['quick', 'brown', 'jumps']\n"
     ]
    }
   ],
   "source": [
    "def long_words(n, str):\n",
    "    word_len = []\n",
    "    txt = str.split(\" \")\n",
    "    for x in txt:\n",
    "        if len(x) > n:\n",
    "            word_len.append(x)\n",
    "    return word_len\t\n",
    "print(long_words(4, \"The quick brown fox jumps over the lazy dog\"))\n"
   ]
  },
  {
   "cell_type": "markdown",
   "metadata": {},
   "source": [
    "Q10. Write the Python program to print a specified list after removing the\n",
    "0th, 4th, and 5th elements?\n",
    "    \n",
    "    Sample List - ['Red', 'Green', 'White', 'Black', 'Pink', 'Yellow']\n",
    "    Expected Output - ['Green', 'White', 'Black']"
   ]
  },
  {
   "cell_type": "code",
   "execution_count": 9,
   "metadata": {},
   "outputs": [
    {
     "name": "stdout",
     "output_type": "stream",
     "text": [
      "['Green', 'White', 'Black']\n"
     ]
    }
   ],
   "source": [
    "color = ['Red', 'Green', 'White', 'Black', 'Pink', 'Yellow']\n",
    "color = [x for (i,x) in enumerate(color) if i not in (0,4,5)]\n",
    "print(color)\n"
   ]
  },
  {
   "cell_type": "markdown",
   "metadata": {},
   "source": [
    "Q11. Write the Python program to generate all permutations of a list in\n",
    "Python?"
   ]
  },
  {
   "cell_type": "code",
   "execution_count": 10,
   "metadata": {},
   "outputs": [
    {
     "name": "stdout",
     "output_type": "stream",
     "text": [
      "[(1, 2, 3), (1, 3, 2), (2, 1, 3), (2, 3, 1), (3, 1, 2), (3, 2, 1)]\n"
     ]
    }
   ],
   "source": [
    "import itertools\n",
    "print(list(itertools.permutations([1,2,3])))\n"
   ]
  },
  {
   "cell_type": "markdown",
   "metadata": {},
   "source": [
    "Q12. Write the Python program to convert a pair of values into a sorted\n",
    "unique array?\n",
    " \n",
    "    Original List- [ (1, 2), (3, 4), (1, 2), (5, 6), (7, 8), (1, 2), (3, 4), (3, 4), (7, 8), (9, 10) ]\n",
    "    Sorted Unique Data- [ 1, 2, 3, 4, 5, 6, 7, 8, 9, 10 ] \n"
   ]
  },
  {
   "cell_type": "code",
   "execution_count": 11,
   "metadata": {},
   "outputs": [
    {
     "name": "stdout",
     "output_type": "stream",
     "text": [
      "Original List:  [(1, 2), (3, 4), (1, 2), (5, 6), (7, 8), (1, 2), (3, 4), (3, 4), (7, 8), (9, 10)]\n",
      "Sorted Unique Data: [1, 2, 3, 4, 5, 6, 7, 8, 9, 10]\n"
     ]
    }
   ],
   "source": [
    "L = [(1, 2), (3, 4), (1, 2), (5, 6), (7, 8), (1, 2), (3, 4), (3, 4), (7, 8), (9, 10) ]\n",
    "print(\"Original List: \", L)\n",
    "print(\"Sorted Unique Data:\",sorted(set().union(*L)))\n"
   ]
  },
  {
   "cell_type": "markdown",
   "metadata": {},
   "source": [
    "## Great job!"
   ]
  }
 ],
 "metadata": {
  "kernelspec": {
   "display_name": "Python 3",
   "language": "python",
   "name": "python3"
  },
  "language_info": {
   "codemirror_mode": {
    "name": "ipython",
    "version": 3
   },
   "file_extension": ".py",
   "mimetype": "text/x-python",
   "name": "python",
   "nbconvert_exporter": "python",
   "pygments_lexer": "ipython3",
   "version": "3.7.3"
  }
 },
 "nbformat": 4,
 "nbformat_minor": 2
}
